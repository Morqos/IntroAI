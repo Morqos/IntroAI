{
 "cells": [
  {
   "cell_type": "markdown",
   "metadata": {},
   "source": [
    "# Graph Implementation and Search Algorithms"
   ]
  },
  {
   "cell_type": "code",
   "execution_count": 1,
   "metadata": {},
   "outputs": [],
   "source": [
    "graph_Romania = {\n",
    "    'Oradea':['Zerind', 'Sibiu'],\n",
    "    'Zerind': ['Arad', 'Oradea'],\n",
    "    'Arad': ['Zerind', 'Sibiu', 'Timisoara'],\n",
    "    'Timisoara': ['Arad', 'Lugoj'],\n",
    "    'Sibiu': ['Arad', 'Oradea', 'Fagaras', 'Rimnicu Vilcea'],\n",
    "    'Rimnicu Vilcea': ['Sibiu', 'Pitesti', 'Craiova'],\n",
    "    'Fagaras': ['Sibiu', 'Bucharest'],\n",
    "    'Lugoj': ['Timisoara', 'Mehadia'],\n",
    "    'Pitesti': ['Rimnicu Vilcea', 'Craiova', 'Bucharest'],\n",
    "    'Mehadia': ['Lugoj', 'Dobreta'],\n",
    "    'Dobreta': ['Mehadia', 'Craiova'],\n",
    "    'Craiova': ['Dobreta', 'Rimnicu Vilcea', 'Pitesti'],\n",
    "    'Bucharest': ['Fagaras', 'Pitesti', 'Urziceni', 'Giurgiu'],\n",
    "    'Giurgiu': ['Bucharest'],\n",
    "    'Urziceni': ['Bucharest', 'Vaslui', 'Hirsova'],\n",
    "    'Hirsova': ['Urziceni', 'Eforie'],\n",
    "    'Eforie': ['Hirsova'],\n",
    "    'Vaslui': ['Urziceni', 'Iasi'],\n",
    "    'Iasi': ['Vaslui', 'Neamt'],\n",
    "    'Neamt': ['Iasi']\n",
    "}"
   ]
  },
  {
   "cell_type": "code",
   "execution_count": 2,
   "metadata": {},
   "outputs": [],
   "source": [
    "def bfs(graph, start):\n",
    "    visited, stack = [start], [start]\n",
    "    while stack:\n",
    "        vertex = stack.pop()\n",
    "        for node in graph[vertex]:\n",
    "            if node not in visited:\n",
    "                visited.append(node)\n",
    "                stack.append(node)\n",
    "    return visited"
   ]
  },
  {
   "cell_type": "code",
   "execution_count": 3,
   "metadata": {},
   "outputs": [
    {
     "data": {
      "text/plain": [
       "['Bucharest',\n",
       " 'Fagaras',\n",
       " 'Pitesti',\n",
       " 'Urziceni',\n",
       " 'Giurgiu',\n",
       " 'Vaslui',\n",
       " 'Hirsova',\n",
       " 'Eforie',\n",
       " 'Iasi',\n",
       " 'Neamt',\n",
       " 'Rimnicu Vilcea',\n",
       " 'Craiova',\n",
       " 'Dobreta',\n",
       " 'Mehadia',\n",
       " 'Lugoj',\n",
       " 'Timisoara',\n",
       " 'Arad',\n",
       " 'Zerind',\n",
       " 'Sibiu',\n",
       " 'Oradea']"
      ]
     },
     "execution_count": 3,
     "metadata": {},
     "output_type": "execute_result"
    }
   ],
   "source": [
    "bfs(graph_Romania, 'Bucharest')"
   ]
  },
  {
   "cell_type": "code",
   "execution_count": 4,
   "metadata": {},
   "outputs": [],
   "source": [
    "def dfs(graph, start):\n",
    "    visited, stack = [], [start]\n",
    "    while stack:\n",
    "        vertex = stack.pop()\n",
    "        if vertex not in visited:\n",
    "            visited.append(vertex)\n",
    "            stack.extend(vert for vert in graph[vertex])\n",
    "    return visited"
   ]
  },
  {
   "cell_type": "code",
   "execution_count": 5,
   "metadata": {},
   "outputs": [
    {
     "data": {
      "text/plain": [
       "['Bucharest',\n",
       " 'Giurgiu',\n",
       " 'Urziceni',\n",
       " 'Hirsova',\n",
       " 'Eforie',\n",
       " 'Vaslui',\n",
       " 'Iasi',\n",
       " 'Neamt',\n",
       " 'Pitesti',\n",
       " 'Craiova',\n",
       " 'Rimnicu Vilcea',\n",
       " 'Sibiu',\n",
       " 'Fagaras',\n",
       " 'Oradea',\n",
       " 'Zerind',\n",
       " 'Arad',\n",
       " 'Timisoara',\n",
       " 'Lugoj',\n",
       " 'Mehadia',\n",
       " 'Dobreta']"
      ]
     },
     "execution_count": 5,
     "metadata": {},
     "output_type": "execute_result"
    }
   ],
   "source": [
    "dfs(graph_Romania, 'Bucharest')"
   ]
  },
  {
   "cell_type": "code",
   "execution_count": 6,
   "metadata": {},
   "outputs": [],
   "source": [
    "visited = []\n",
    "def dfs_recursive_support(graph, node):\n",
    "    if node not in visited:\n",
    "        visited.append(node)\n",
    "        for adjacent in graph[node]:\n",
    "            dfs_recursive_support(graph, adjacent)\n",
    "    \n",
    "    \n",
    "def dfs_rec(graph, start):\n",
    "    dfs_recursive_support(graph, start)\n",
    "    return visited"
   ]
  },
  {
   "cell_type": "code",
   "execution_count": 7,
   "metadata": {},
   "outputs": [
    {
     "data": {
      "text/plain": [
       "['Bucharest',\n",
       " 'Fagaras',\n",
       " 'Sibiu',\n",
       " 'Arad',\n",
       " 'Zerind',\n",
       " 'Oradea',\n",
       " 'Timisoara',\n",
       " 'Lugoj',\n",
       " 'Mehadia',\n",
       " 'Dobreta',\n",
       " 'Craiova',\n",
       " 'Rimnicu Vilcea',\n",
       " 'Pitesti',\n",
       " 'Urziceni',\n",
       " 'Vaslui',\n",
       " 'Iasi',\n",
       " 'Neamt',\n",
       " 'Hirsova',\n",
       " 'Eforie',\n",
       " 'Giurgiu']"
      ]
     },
     "execution_count": 7,
     "metadata": {},
     "output_type": "execute_result"
    }
   ],
   "source": [
    "dfs_rec(graph_Romania, 'Bucharest')"
   ]
  },
  {
   "cell_type": "code",
   "execution_count": null,
   "metadata": {},
   "outputs": [],
   "source": []
  }
 ],
 "metadata": {
  "kernelspec": {
   "display_name": "Python 3",
   "language": "python",
   "name": "python3"
  },
  "language_info": {
   "codemirror_mode": {
    "name": "ipython",
    "version": 3
   },
   "file_extension": ".py",
   "mimetype": "text/x-python",
   "name": "python",
   "nbconvert_exporter": "python",
   "pygments_lexer": "ipython3",
   "version": "3.5.2"
  }
 },
 "nbformat": 4,
 "nbformat_minor": 2
}
