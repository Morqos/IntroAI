{
 "cells": [
  {
   "cell_type": "markdown",
   "metadata": {},
   "source": [
    "# Search Algorithms applied to Teseo Problem - 09/03/2018"
   ]
  },
  {
   "cell_type": "markdown",
   "metadata": {},
   "source": [
    "## Illustration"
   ]
  },
  {
   "cell_type": "code",
   "execution_count": 1,
   "metadata": {
    "scrolled": true
   },
   "outputs": [
    {
     "data": {
      "image/png": "[encoded data removed]",
      "text/plain": [
       "<matplotlib.figure.Figure at 0x7fd63837f438>"
      ]
     },
     "metadata": {},
     "output_type": "display_data"
    },
    {
     "data": {
      "text/plain": [
       "<matplotlib.figure.Figure at 0x7fd641d0b748>"
      ]
     },
     "execution_count": 1,
     "metadata": {},
     "output_type": "execute_result"
    }
   ],
   "source": [
    "import matplotlib.pyplot as plt\n",
    "import matplotlib.image as mpimg\n",
    "image = mpimg.imread(\"Teseo.png\")\n",
    "plt.imshow(image)\n",
    "plt.show()\n",
    "plt.figure(num=None, figsize=(15, 10), dpi=90, facecolor='w', edgecolor='k')"
   ]
  },
  {
   "cell_type": "markdown",
   "metadata": {},
   "source": [
    "## Representation"
   ]
  },
  {
   "cell_type": "code",
   "execution_count": 2,
   "metadata": {},
   "outputs": [],
   "source": [
    "START = 1\n",
    "GOAL = 2\n",
    "Teseo = [\n",
    "    [0, 0, 0, 0],\n",
    "    [1, 0, 0, 2],\n",
    "    [0, 0, 0, 0],\n",
    "    [0, 0, 0, 0]]"
   ]
  },
  {
   "cell_type": "markdown",
   "metadata": {},
   "source": [
    "## Moves"
   ]
  },
  {
   "cell_type": "code",
   "execution_count": 3,
   "metadata": {},
   "outputs": [],
   "source": [
    "illegal_moves_Teseo = {\n",
    "    (0, 1): [[1, 1]],\n",
    "    (0, 2): [[1, 2]],\n",
    "    (1, 0): [[2, 0]],\n",
    "    (1, 1): [[0, 1]],\n",
    "    (1, 2): [[0, 2], [1, 3]],\n",
    "    (1, 3): [[1, 2]],\n",
    "    (2, 1): [[2, 2], [3, 1]],\n",
    "    (2, 2): [[2, 1], [2, 3]],\n",
    "    (2, 3): [[2, 2]],\n",
    "    (3, 1): [[2, 1]]\n",
    "}"
   ]
  },
  {
   "cell_type": "code",
   "execution_count": 4,
   "metadata": {},
   "outputs": [],
   "source": [
    "# True if is a possible move\n",
    "def isLegalMove(illegal_moves, initialPosition, finalPosition):\n",
    "    if initialPosition in illegal_moves:\n",
    "        for move in illegal_moves[initialPosition]:\n",
    "            if move[0] == finalPosition[0] and move[1] == finalPosition[1]:\n",
    "                return False\n",
    "    if finalPosition[0] < 0 or finalPosition[0] > 3 or finalPosition[1] < 0 or finalPosition[1] > 3:\n",
    "        return False\n",
    "    return True"
   ]
  },
  {
   "cell_type": "code",
   "execution_count": 5,
   "metadata": {},
   "outputs": [],
   "source": [
    "# Return [up, right, down, left] when legal\n",
    "def createMoves(position):\n",
    "    legalMovesList = []\n",
    "    \n",
    "    up = (position[0]-1,position[1])\n",
    "    right = (position[0], position[1]+1)\n",
    "    down = (position[0]+1, position[1])\n",
    "    left = (position[0], position[1]-1)\n",
    "    \n",
    "    if isLegalMove(illegal_moves_Teseo, position, up): legalMovesList.append(up)\n",
    "    if isLegalMove(illegal_moves_Teseo, position, right): legalMovesList.append(right)\n",
    "    if isLegalMove(illegal_moves_Teseo, position, down): legalMovesList.append(down)\n",
    "    if isLegalMove(illegal_moves_Teseo, position, left): legalMovesList.append(left)\n",
    "        \n",
    "    return legalMovesList"
   ]
  },
  {
   "cell_type": "code",
   "execution_count": 6,
   "metadata": {},
   "outputs": [],
   "source": [
    "# True if I've reached the Goal\n",
    "def checkGoal(matrix, cell):\n",
    "    cellX, cellY = cell\n",
    "    if matrix[cellX][cellY] == GOAL:\n",
    "        return True\n",
    "    else: return False"
   ]
  },
  {
   "cell_type": "code",
   "execution_count": 19,
   "metadata": {},
   "outputs": [],
   "source": [
    "# Where Teseo is located in the map\n",
    "def findPosition():\n",
    "    startPosition = [0,0]\n",
    "    for row in range(len(Teseo)):\n",
    "        for col in range(len(Teseo)):\n",
    "            if Teseo[row][col] == START:\n",
    "                startPosition[0] = row\n",
    "                startPosition[1] = col\n",
    "                return startPosition"
   ]
  },
  {
   "cell_type": "markdown",
   "metadata": {},
   "source": [
    "## BFS"
   ]
  },
  {
   "cell_type": "code",
   "execution_count": 7,
   "metadata": {},
   "outputs": [],
   "source": [
    "# Delete this and write the DFS\n",
    "def bfsTeseo(matrix, start):\n",
    "    visited, stack = [start], [start]\n",
    "    while stack:\n",
    "        cell = stack.pop(0)\n",
    "        legalMoves = createMoves(cell)\n",
    "        \n",
    "        for adjacentCell in legalMoves:\n",
    "            if adjacentCell not in visited:\n",
    "                visited.append(adjacentCell)\n",
    "                stack.append(adjacentCell)\n",
    "                    \n",
    "            if checkGoal(matrix, adjacentCell): return visited\n",
    "    return visited"
   ]
  },
  {
   "cell_type": "markdown",
   "metadata": {},
   "source": [
    "### Check the visited cells with BFS"
   ]
  },
  {
   "cell_type": "code",
   "execution_count": 9,
   "metadata": {},
   "outputs": [
    {
     "data": {
      "text/plain": [
       "[(1, 0),\n",
       " (0, 0),\n",
       " (1, 1),\n",
       " (0, 1),\n",
       " (1, 2),\n",
       " (2, 1),\n",
       " (0, 2),\n",
       " (2, 2),\n",
       " (2, 0),\n",
       " (0, 3),\n",
       " (3, 2),\n",
       " (3, 0),\n",
       " (1, 3)]"
      ]
     },
     "execution_count": 9,
     "metadata": {},
     "output_type": "execute_result"
    }
   ],
   "source": [
    "startRow, startCol = findPosition()\n",
    "bfsVisited = bfsTeseo(Teseo, (startRow, startCol))\n",
    "\n",
    "bfsVisited"
   ]
  },
  {
   "cell_type": "code",
   "execution_count": 10,
   "metadata": {},
   "outputs": [],
   "source": [
    "from copy import deepcopy\n",
    "\n",
    "def visitedCells(visitedList):\n",
    "    Teseo_copy = deepcopy(Teseo)\n",
    "    for cell in visitedList:\n",
    "        x = cell[0]\n",
    "        y = cell[1]\n",
    "        Teseo_copy[x][y] = 1\n",
    "\n",
    "    for i in range(len(Teseo_copy)):\n",
    "        print(Teseo_copy[i])"
   ]
  },
  {
   "cell_type": "code",
   "execution_count": 11,
   "metadata": {},
   "outputs": [
    {
     "name": "stdout",
     "output_type": "stream",
     "text": [
      "[1, 1, 1, 1]\n",
      "[1, 1, 1, 1]\n",
      "[1, 1, 1, 0]\n",
      "[1, 0, 1, 0]\n"
     ]
    }
   ],
   "source": [
    "visitedCells(bfsVisited)"
   ]
  },
  {
   "cell_type": "markdown",
   "metadata": {},
   "source": [
    "## DFS"
   ]
  },
  {
   "cell_type": "code",
   "execution_count": 12,
   "metadata": {},
   "outputs": [],
   "source": [
    "def dfsTeseo(matrix, start):\n",
    "    visited, stack = [], [start]\n",
    "    while stack:\n",
    "        cell = stack.pop()\n",
    "        if cell not in visited:\n",
    "            visited.append(cell)\n",
    "            if checkGoal(matrix, cell): return visited\n",
    "            \n",
    "            legalMoves = createMoves(cell)\n",
    "            stack.extend(move for move in legalMoves)\n",
    "    return visited"
   ]
  },
  {
   "cell_type": "markdown",
   "metadata": {},
   "source": [
    "### Check the visited cells with DFS"
   ]
  },
  {
   "cell_type": "code",
   "execution_count": 13,
   "metadata": {},
   "outputs": [
    {
     "data": {
      "text/plain": [
       "[(1, 0),\n",
       " (1, 1),\n",
       " (2, 1),\n",
       " (2, 0),\n",
       " (3, 0),\n",
       " (3, 1),\n",
       " (3, 2),\n",
       " (3, 3),\n",
       " (2, 3),\n",
       " (1, 3)]"
      ]
     },
     "execution_count": 13,
     "metadata": {},
     "output_type": "execute_result"
    }
   ],
   "source": [
    "startRow, startCol = findPosition()\n",
    "dfsVisited = dfsTeseo(Teseo, (startRow, startCol))\n",
    "\n",
    "dfsVisited"
   ]
  },
  {
   "cell_type": "code",
   "execution_count": 14,
   "metadata": {
    "scrolled": true
   },
   "outputs": [
    {
     "name": "stdout",
     "output_type": "stream",
     "text": [
      "[0, 0, 0, 0]\n",
      "[1, 1, 0, 1]\n",
      "[1, 1, 0, 1]\n",
      "[1, 1, 1, 1]\n"
     ]
    }
   ],
   "source": [
    "visitedCells(dfsVisited)"
   ]
  },
  {
   "cell_type": "markdown",
   "metadata": {},
   "source": [
    "# Recursive DFS"
   ]
  },
  {
   "cell_type": "code",
   "execution_count": 15,
   "metadata": {},
   "outputs": [],
   "source": [
    "def dfs_recursive_support(matrix, cell, visited):\n",
    "    if cell not in visited:\n",
    "        visited.append(cell)\n",
    "        if checkGoal(matrix, cell): return visited\n",
    "        \n",
    "        legalMoves = createMoves(cell)\n",
    "        for adjacentCell in legalMoves:\n",
    "            return dfs_recursive_support(matrix, adjacentCell, visited)\n",
    "    \n",
    "    \n",
    "def dfs_rec_Teseo(matrix, start):\n",
    "    visited = []\n",
    "    return dfs_recursive_support(matrix, start, visited)"
   ]
  },
  {
   "cell_type": "markdown",
   "metadata": {},
   "source": [
    "### Check the visited cells with Recursive DFS"
   ]
  },
  {
   "cell_type": "code",
   "execution_count": 16,
   "metadata": {},
   "outputs": [
    {
     "data": {
      "text/plain": [
       "[(1, 0), (0, 0), (0, 1), (0, 2), (0, 3), (1, 3)]"
      ]
     },
     "execution_count": 16,
     "metadata": {},
     "output_type": "execute_result"
    }
   ],
   "source": [
    "startRow, startCol = findPosition()\n",
    "dfs_recVisited = dfs_rec_Teseo(Teseo, (startRow, startCol))\n",
    "\n",
    "dfs_recVisited"
   ]
  },
  {
   "cell_type": "code",
   "execution_count": 17,
   "metadata": {},
   "outputs": [
    {
     "name": "stdout",
     "output_type": "stream",
     "text": [
      "[1, 1, 1, 1]\n",
      "[1, 0, 0, 1]\n",
      "[0, 0, 0, 0]\n",
      "[0, 0, 0, 0]\n"
     ]
    }
   ],
   "source": [
    "visitedCells(dfs_recVisited)"
   ]
  }
 ],
 "metadata": {
  "kernelspec": {
   "display_name": "Python 3",
   "language": "python",
   "name": "python3"
  },
  "language_info": {
   "codemirror_mode": {
    "name": "ipython",
    "version": 3
   },
   "file_extension": ".py",
   "mimetype": "text/x-python",
   "name": "python",
   "nbconvert_exporter": "python",
   "pygments_lexer": "ipython3",
   "version": "3.5.2"
  }
 },
 "nbformat": 4,
 "nbformat_minor": 2
}
